{
 "cells": [
  {
   "cell_type": "code",
   "execution_count": 2,
   "metadata": {
    "collapsed": true
   },
   "outputs": [],
   "source": [
    "import pandas as pd\n",
    "import matplotlib.pyplot as plt\n",
    "import seaborn as sns\n",
    "import numpy as np\n",
    "\n",
    "from bs4 import BeautifulSoup\n",
    "import urllib2\n",
    "import lxml\n",
    "import requests"
   ]
  },
  {
   "cell_type": "code",
   "execution_count": 3,
   "metadata": {
    "collapsed": true
   },
   "outputs": [],
   "source": [
    "url='https://www.dice.com/jobs?q=data+analyst&l=San+Francisco%2C+CA'\n",
    "req = requests.get(url)\n",
    "soup=BeautifulSoup(req.text,'lxml')\n",
    "#print(soup.prettify)\n",
    "home_url=\"http://www.dice.com\""
   ]
  },
  {
   "cell_type": "code",
   "execution_count": 4,
   "metadata": {
    "collapsed": true
   },
   "outputs": [],
   "source": [
    "def getjobinfo(soup_job,posted_title):\n",
    "    \n",
    "    job_header=soup_job.findAll('div', {'class' :\"col-md-5 col-lg-6\"})\n",
    "    title=job_header[0].find('h1',{'class' : 'jobTitle'})\n",
    "    title=str(title.text).strip()\n",
    "    comp=job_header[0].find('li',{'class' : 'employer'})\n",
    "    comp=str(comp.text).strip()\n",
    "    loc=job_header[0].find('li',{'class' : 'location'})\n",
    "    loc=str(loc.text).strip()\n",
    "    job_skills=soup_job.findAll('div', {'class' :\"row job-info\"})\n",
    "    skills=job_skills[0].find('div', {'itemprop' :\"skills\"})\n",
    "    skills=str(skills.text).strip()\n",
    "    \n",
    "    return [posted_title,comp,title,loc,skills]"
   ]
  },
  {
   "cell_type": "code",
   "execution_count": 5,
   "metadata": {
    "collapsed": true
   },
   "outputs": [],
   "source": [
    "def openpage(joburl):\n",
    "    req = requests.get(joburl)\n",
    "    soup_job=BeautifulSoup(req.text,'lxml')\n",
    "    return soup_job"
   ]
  },
  {
   "cell_type": "code",
   "execution_count": 6,
   "metadata": {
    "collapsed": false
   },
   "outputs": [
    {
     "name": "stdout",
     "output_type": "stream",
     "text": [
      "[['Data Analyst', 'SPIN Analytics and Strategy,', 'Sr Data Analyst', 'San Mateo, CA', 'Statistics, SQL/R, Python, Hadoop, Tableau, Spot fire, Strong SQL skills, Teradata, AWS'], ['Data Analyst', 'CyberCoders,', 'Lead Data Analyst - Qualitative, SQL queries, Gaming', 'San Francisco, CA', 'Data Analyst, Quantitative Analysis, SQL Queries, AB testing, Gaming, Excel, Tableau, Statistics - Data Analyst, Quantitative Analysis, SQL Queries, AB testing, Gaming, Excel, Tableau, Statistics'], ['Data Analyst', 'Source Coders,', 'Data Analyst', 'San Francisco, CA', 'Data, Data Analyst, SQL, Python, mobile gaming'], ['Data Analyst', 'Genesis10,', 'Data Analyst', 'San Francisco, CA', 'Analyst, Analytical, Computer, Excel, SAS, SQL'], ['Data Analyst', 'CyberCoders,', 'Sr. Data Analyst', 'Hayward, CA', 'Tableau, SQL Server and Management Studio, Excel - Tableau, SQL Server and Management Studio, Excel'], ['Data Analyst', 'Signature Consultants,', 'Marketing Data Analyst', 'San Francisco, CA', 'Marketing Data Analyst'], ['Data Analyst', 'Mainz Brady Group,', 'Data Analyst', 'Oakland, CA', 'Data Analyst, data administration, Moniter data, SQL, Oracle Database, Toad, SQL querying skills'], ['Data Analyst', 'Eaton & Associates,', 'BI Data Analyst', 'Redwood City, CA', 'BI Data Analyst Health SQL Report'], ['Data Analyst', 'JCG-DBA BI Group, Inc.,', 'Data Analyst', 'San Francisco, CA', 'Data Analyst, Data Modeling, Data Mapping, Data Lineage'], ['Data Analyst', 'SmartWorks,', 'Data Analyst (Denodo)', 'San Francisco, CA', 'DENODO,Oracle,Qlikview,Data Analyst, Data Virtualization'], ['Data Analyst', 'Intersources Inc,', 'Business Data Analyst - Informatica MDM', 'San Francisco, CA', 'business system analyst informatica MDM master data management'], ['Data Analyst', 'Estuate Inc.,', 'Senior BI Data Analyst', 'San Mateo, CA', 'SQL, MS SQL Server ETL and creation of SQL stored procedures, Enterprise Data Warehouse, Healthcare, Microsoft Power BI or Tableau'], ['Data Analyst', 'Estuate Inc.,', 'Senior BI Data Analyst', 'San Mateo, CA', 'SQL, MS SQL Server ETL and creation of SQL stored procedures, Enterprise Data Warehouse, Healthcare, Microsoft Power BI or Tableau'], ['Data Analyst', 'Ascentiant International,', 'Data Analyst', 'Walnut Creek, CA', 'R SAS SQL ETL EPIC Clarity HIPAA ANALYST'], ['Data Analyst', 'Finezi,', 'Data Analyst', 'San Francisco, CA', 'Providing excellent client and peer interaction using system analytic skills. Assist and support other business analysis on ad hoc requests. Work with the peer and clients to provide the best data ana'], ['Data Analyst', 'Incedo,', 'Data Analyst', 'San Francisco, CA', 'Data Analysis, Data Mining, Pharmaceutical, Pre-clinical/Non-Clinical'], ['Data Analyst', 'SIS-Systems Integration Solutions, Inc.,', 'BI Data Analyst', 'Redwood City, CA', 'SQL SQL Server ETL BI (Business Intelligence)'], ['Data Analyst', 'Svam International, Inc.,', 'Whole Person Care (WPC) Data Analyst / EDI Analyst / EDI Data Analyst', 'Alameda, CA', 'Whole Person Care (WPC) Data Analyst / EDI Analyst / EDI Data Analyst'], ['Data Analyst', 'Parmesoft Inc.,', 'Workday Data Analyst - Emeryville, CA', 'Emeryville, CA', 'Workday, Data Analyst'], ['Data Analyst', 'BayOne Solutions,', 'Business System Analyst / Data Analyst', 'San Ramon, CA', 'Cash management, ACH, Checks, Wire, Retail Banking'], ['Data Analyst', 'CSS Staffing,', 'Business Data Analyst San Francisco, CA', 'San Francisco, CA', 'Business, Data, Develop, SQL, Analyst, BA, Excel, PowerPoint, P&L, Commerce'], ['Data Analyst', 'Enexus Global,', 'Data Analyst with SQL Experience', 'San Francisco, CA', 'SQL ,  ETL , Shell, Perl or Python'], ['Data Analyst', 'Trinamix,', 'Hot!! Operational Project Manager - Data Analyst', 'Menlo Park, CA', 'Presto, Oracle, MySQL,  Hive, forecast, deployment, operation, Tableau, KPI, Data Analysis, Data Science,  SQL,'], ['Data Analyst', 'Goahead Solutions,', 'Senior Business Analyst Banking', 'San Francisco, CA', 'Business Analyst, Data Analyst, Banking, Loans, Loan Origination, Data Mart, Reporting, ETL, Meta Data, UAT, SQL,'], ['Data Analyst', 'Fisher Investments,', 'System and Data Analytics Analyst (2017-5287)', 'San Mateo, CA', 'Algorithms, Analysis, Analyst, Analytical Skills, Architecture, Data Architecture, Data Mining, Excel, Management, Modeling, Research, Sales, SQL, SQL Server, Testing'], ['Data Analyst', 'Renovite,', 'Data Migration Analyst', 'San Francisco, CA', 'Data Mapping, banking background, reports, ETL'], ['Data Scientist', 'Mordue, Allen, Roberts, Bonney, Ltd,', 'Machine Learning Data Scientist FinTech', 'San Francisco, CA', 'machine learning data scientist mining algorithms statistical predictive data text modeling NLP Python Ruby'], ['Data Scientist', 'CoreTechs LLC,', 'Data Scientist-Machine Learning, R, Algorithms', 'Redwood City, CA', 'Machine Learning/Data Scientist 5 years, PhD, R, Algorithms.  Hadoop.'], ['Data Scientist', 'Radiansys, Inc.,', 'Sr. Data Scientist', 'San Francisco, CA', '(DATA SCIENTIST ) AND (R OR PYTHON ) AND(SCALA ) AND (DISTRIBUTED SYSTEMS OR REDSHIFT OR BIGQUERY OR SPARK OR APACHE OR HADOOP )'], ['Data Scientist', 'Vinsari LLC,', 'Data scientist', 'San Francisco, CA', 'Data scientist Spark/Scala or Spark/Python'], ['Data Scientist', 'CyberCoders,', 'Data Scientist - Machine Learning, Python, Data Mining', 'San Francisco, CA', 'Machine Learning, Python, Data Mining, Hadoop, Scala, SPARK, SQL - Machine Learning, Python, Data Mining, Hadoop, Scala, SPARK, SQL'], ['Data Scientist', 'CyberCoders,', 'Senior Data Scientist - Python/R/Java/Scala', 'San Francisco, CA', 'Data Science, Python, Scala, or Java, Hadoop/Spark/Hive, Amazon Web Services - Data Science, Python, Scala, or Java, Hadoop/Spark/Hive, Amazon Web Services'], ['Data Scientist', 'CyberCoders,', 'Data Scientist - Python/R/Matlab, Scala, Big Data (Hadoop/MapRed', 'San Francisco, CA', 'Python/R/Matlab, Scala, Big Data (Hadoop/MapReduce/Hive/Pig) - Python/R/Matlab, Scala, Big Data (Hadoop/MapReduce/Hive/Pig)'], ['Data Scientist', 'CyberCoders,', 'Data Scientist - Python/R/Matlab, Scala, Big Data (Hadoop/MapRed', 'San Francisco, CA', 'Python/R/Matlab, Scala, Big Data (Hadoop/MapReduce/Hive/Pig) - Python/R/Matlab, Scala, Big Data (Hadoop/MapReduce/Hive/Pig)'], ['Data Scientist', 'CyberCoders,', 'Data Scientist', 'Palo Alto, CA', 'Data Science, Tableau, SQL - Data Science, Tableau, SQL'], ['Data Scientist', 'CyberCoders,', 'Lead Data Scientist | Python, SQL, AWS', 'San Francisco, CA', 'Python, SQL, MySQL, Machine Learning, AWS - Python, SQL, MySQL, Machine Learning, AWS'], ['Data Scientist', 'CyberCoders,', 'Senior Data Scientist', 'Palo Alto, CA', 'Machine Learning, NLP, Python or Scala, Spark/Kafka/Storm/ Cassandra - Machine Learning, NLP, Python or Scala, Spark/Kafka/Storm/ Cassandra'], ['Data Scientist', 'CyberCoders,', 'Data Scientist', 'Palo Alto, CA', 'Machine Learning, NLP, Python or Scala, Spark/Kafka/Storm/ Cassandra - Machine Learning, NLP, Python or Scala, Spark/Kafka/Storm/ Cassandra'], ['Data Scientist', 'CyberCoders,', 'Senior Data Scientist', 'Redwood City, CA', 'R, Python, Machine Learning, NLP, Algorithms, Hadoop Ecosystem - R, Python, Machine Learning, NLP, Algorithms, Hadoop Ecosystem'], ['Data Scientist', 'CyberCoders,', 'NLP/Data Scientist', 'Redwood City, CA', 'Machine Learning Algorithims, Text Mining, Natural Language Processing - Machine Learning Algorithims, Text Mining, Natural Language Processing'], ['Data Scientist', 'CyberCoders,', 'Senior Data Scientist', 'Palo Alto, CA', 'Machine Learning, Deep Learning, Artificial Intelligence, Java, Natural Language Processing (NLP) - Machine Learning, Deep Learning, Artificial Intelligence, Java, Natural Language Processing (NLP)'], ['Data Scientist', 'CyberCoders,', 'Senior Data Scientist - Digital human behavior research', 'San Francisco, CA', 'Machine Learning, Deep Learning, Python, Scala, SPARK - Machine Learning, Deep Learning, Python, Scala, SPARK'], ['Data Scientist', 'CyberCoders,', 'Data Scientist - Python/R/Matlab, Machine Learning, Apache Spark', 'San Mateo, CA', 'Python/R/Matlab, Machine Learning, Apache Spark - Python/R/Matlab, Machine Learning, Apache Spark'], ['Data Scientist', 'BayOne Solutions,', 'Senior Data Scientist', 'Palo Alto, CA', 'R, MATLAB, Python, numpy, pandas, scikit-learn, TensorFlow,'], ['Data Scientist', 'Payette Group,', 'Data Scientist', 'Palo Alto, CA', 'Python, TensorFlow, Algorithms'], ['Data Scientist', 'CyberCoders,', 'Sr. Data Scientist - Machine Learning, Python - 120K - 175K', 'San Francisco, CA', 'Machine Learning, Natural Language Processing, Python - Machine Learning, Natural Language Processing, Python'], ['Data Scientist', 'CyberCoders,', 'Data Scientist - Machine Learning, Python - 120K - 175K', 'San Francisco, CA', 'Machine Learning, Natural Language Processing, Python - Machine Learning, Natural Language Processing, Python'], ['Data Scientist', 'BayOne Solutions,', 'Head of Machine Learning/Data Scientist', 'Palo Alto, CA', 'Machine Learning/Artificial Intelligence/Algorithm Design/Leadership Skills/Strategy/Customer facing'], ['Data Scientist', 'Brillio, LLC,', 'Sr. Data Scientist', 'San Francisco, CA', 'AWS, Azure, cloud computing technologies, Python, R, Scala, SQL, data modeling, data science notebooks (Jupyter, Zeppelin or other), C, SharePoint, HTML, Java, Adobe'], ['Data Scientist', 'Cosmos IT Solutions,', 'Data Scientist', 'San Mateo, CA', 'Teradata'], ['Data Scientist', 'Intelliswift Software Inc,', 'Data Scientist', 'San Mateo, CA', 'Machine Learning algorithms, SQL, R, Python'], ['Data Scientist', 'Apixio,', 'Sr. Data Scientist/Research Engineer', 'San Mateo, CA', 'Experience working with high performance computing in distributed and parallel systems, e.g. Hadoop, Tez & Spark'], ['Data Scientist', 'Skyrocket Ventures,', 'Jr. to Senior Data Scientist, top tier Health company (up to $170k)', 'San Francisco, CA', 'data science data scientist python probabilistic reasoning machine learning statistics mathematics analytics'], ['Data Scientist', '10525742,', 'Data Scientist (Direct Hire) - REMOTE - Operations Consultancy', 'Remote, CA', 'Data Science, Data Scientist, Analytics, Analysis, Statistics, Predictive Modeling, Visualization, Python, R, SQL, Excel'], ['Data Scientist', 'Analytic Recruiting Inc,', 'DATA SCIENTIST/ENGINEER', 'San Francisco, CA', 'Data engineer; Data science, ETL; Python, Java, digital analytics. Digital media, advertising, Big Data'], ['Data Scientist', 'CyberCoders,', 'Senior ML Data Scientist - Leadership Role!', 'San Francisco, CA', 'Machine Learning, Python, R, ETL, Data Science - Machine Learning, Python, R, ETL, Data Science']]\n"
     ]
    }
   ],
   "source": [
    "search_result=[]\n",
    "titles=['Data Analyst','Data Scientist']\n",
    "\n",
    "for title in titles:\n",
    "    url='https://www.dice.com/jobs?q=' + title + '&l=San+Francisco%2C+CA'\n",
    "    req = requests.get(url)\n",
    "    soup=BeautifulSoup(req.text,'lxml')\n",
    "    \n",
    "    job_container=soup.findAll('div', {'class' :\"complete-serp-result-div\"})\n",
    "    for job in range(len(job_container)):\n",
    "        firstjob=job_container[job]\n",
    "    \n",
    "        joburl=firstjob.find('a', {'class' : 'dice-btn-link loggedInVisited easy-apply'})\n",
    "        if joburl is not None:\n",
    "            joburl=home_url+joburl.get('href')\n",
    "            s_o=openpage(joburl)\n",
    "            search_result.append(getjobinfo(s_o,title))\n",
    "            \n",
    "\n",
    "print(search_result)"
   ]
  },
  {
   "cell_type": "code",
   "execution_count": 7,
   "metadata": {
    "collapsed": true
   },
   "outputs": [],
   "source": [
    "df=pd.DataFrame(search_result,columns=['Searched Title', 'Company','Position','Location','Skills'])"
   ]
  },
  {
   "cell_type": "code",
   "execution_count": 8,
   "metadata": {
    "collapsed": false
   },
   "outputs": [
    {
     "name": "stdout",
     "output_type": "stream",
     "text": [
      "    Searched Title                                   Company  \\\n",
      "0     Data Analyst              SPIN Analytics and Strategy,   \n",
      "1     Data Analyst                              CyberCoders,   \n",
      "2     Data Analyst                            Source Coders,   \n",
      "3     Data Analyst                                Genesis10,   \n",
      "4     Data Analyst                              CyberCoders,   \n",
      "5     Data Analyst                    Signature Consultants,   \n",
      "6     Data Analyst                        Mainz Brady Group,   \n",
      "7     Data Analyst                       Eaton & Associates,   \n",
      "8     Data Analyst                   JCG-DBA BI Group, Inc.,   \n",
      "9     Data Analyst                               SmartWorks,   \n",
      "10    Data Analyst                         Intersources Inc,   \n",
      "11    Data Analyst                             Estuate Inc.,   \n",
      "12    Data Analyst                             Estuate Inc.,   \n",
      "13    Data Analyst                 Ascentiant International,   \n",
      "14    Data Analyst                                   Finezi,   \n",
      "15    Data Analyst                                   Incedo,   \n",
      "16    Data Analyst  SIS-Systems Integration Solutions, Inc.,   \n",
      "17    Data Analyst                 Svam International, Inc.,   \n",
      "18    Data Analyst                           Parmesoft Inc.,   \n",
      "19    Data Analyst                         BayOne Solutions,   \n",
      "20    Data Analyst                             CSS Staffing,   \n",
      "21    Data Analyst                            Enexus Global,   \n",
      "22    Data Analyst                                 Trinamix,   \n",
      "23    Data Analyst                        Goahead Solutions,   \n",
      "24    Data Analyst                       Fisher Investments,   \n",
      "25    Data Analyst                                 Renovite,   \n",
      "26  Data Scientist      Mordue, Allen, Roberts, Bonney, Ltd,   \n",
      "27  Data Scientist                            CoreTechs LLC,   \n",
      "28  Data Scientist                          Radiansys, Inc.,   \n",
      "29  Data Scientist                              Vinsari LLC,   \n",
      "30  Data Scientist                              CyberCoders,   \n",
      "31  Data Scientist                              CyberCoders,   \n",
      "32  Data Scientist                              CyberCoders,   \n",
      "33  Data Scientist                              CyberCoders,   \n",
      "34  Data Scientist                              CyberCoders,   \n",
      "35  Data Scientist                              CyberCoders,   \n",
      "36  Data Scientist                              CyberCoders,   \n",
      "37  Data Scientist                              CyberCoders,   \n",
      "38  Data Scientist                              CyberCoders,   \n",
      "39  Data Scientist                              CyberCoders,   \n",
      "40  Data Scientist                              CyberCoders,   \n",
      "41  Data Scientist                              CyberCoders,   \n",
      "42  Data Scientist                              CyberCoders,   \n",
      "43  Data Scientist                         BayOne Solutions,   \n",
      "44  Data Scientist                            Payette Group,   \n",
      "45  Data Scientist                              CyberCoders,   \n",
      "46  Data Scientist                              CyberCoders,   \n",
      "47  Data Scientist                         BayOne Solutions,   \n",
      "48  Data Scientist                             Brillio, LLC,   \n",
      "49  Data Scientist                      Cosmos IT Solutions,   \n",
      "50  Data Scientist                Intelliswift Software Inc,   \n",
      "51  Data Scientist                                   Apixio,   \n",
      "52  Data Scientist                       Skyrocket Ventures,   \n",
      "53  Data Scientist                                 10525742,   \n",
      "54  Data Scientist                  Analytic Recruiting Inc,   \n",
      "55  Data Scientist                              CyberCoders,   \n",
      "\n",
      "                                             Position           Location  \\\n",
      "0                                     Sr Data Analyst      San Mateo, CA   \n",
      "1   Lead Data Analyst - Qualitative, SQL queries, ...  San Francisco, CA   \n",
      "2                                        Data Analyst  San Francisco, CA   \n",
      "3                                        Data Analyst  San Francisco, CA   \n",
      "4                                    Sr. Data Analyst        Hayward, CA   \n",
      "5                              Marketing Data Analyst  San Francisco, CA   \n",
      "6                                        Data Analyst        Oakland, CA   \n",
      "7                                     BI Data Analyst   Redwood City, CA   \n",
      "8                                        Data Analyst  San Francisco, CA   \n",
      "9                               Data Analyst (Denodo)  San Francisco, CA   \n",
      "10            Business Data Analyst - Informatica MDM  San Francisco, CA   \n",
      "11                             Senior BI Data Analyst      San Mateo, CA   \n",
      "12                             Senior BI Data Analyst      San Mateo, CA   \n",
      "13                                       Data Analyst   Walnut Creek, CA   \n",
      "14                                       Data Analyst  San Francisco, CA   \n",
      "15                                       Data Analyst  San Francisco, CA   \n",
      "16                                    BI Data Analyst   Redwood City, CA   \n",
      "17  Whole Person Care (WPC) Data Analyst / EDI Ana...        Alameda, CA   \n",
      "18              Workday Data Analyst - Emeryville, CA     Emeryville, CA   \n",
      "19             Business System Analyst / Data Analyst      San Ramon, CA   \n",
      "20            Business Data Analyst San Francisco, CA  San Francisco, CA   \n",
      "21                   Data Analyst with SQL Experience  San Francisco, CA   \n",
      "22   Hot!! Operational Project Manager - Data Analyst     Menlo Park, CA   \n",
      "23                    Senior Business Analyst Banking  San Francisco, CA   \n",
      "24      System and Data Analytics Analyst (2017-5287)      San Mateo, CA   \n",
      "25                             Data Migration Analyst  San Francisco, CA   \n",
      "26            Machine Learning Data Scientist FinTech  San Francisco, CA   \n",
      "27     Data Scientist-Machine Learning, R, Algorithms   Redwood City, CA   \n",
      "28                                 Sr. Data Scientist  San Francisco, CA   \n",
      "29                                     Data scientist  San Francisco, CA   \n",
      "30  Data Scientist - Machine Learning, Python, Dat...  San Francisco, CA   \n",
      "31        Senior Data Scientist - Python/R/Java/Scala  San Francisco, CA   \n",
      "32  Data Scientist - Python/R/Matlab, Scala, Big D...  San Francisco, CA   \n",
      "33  Data Scientist - Python/R/Matlab, Scala, Big D...  San Francisco, CA   \n",
      "34                                     Data Scientist      Palo Alto, CA   \n",
      "35             Lead Data Scientist | Python, SQL, AWS  San Francisco, CA   \n",
      "36                              Senior Data Scientist      Palo Alto, CA   \n",
      "37                                     Data Scientist      Palo Alto, CA   \n",
      "38                              Senior Data Scientist   Redwood City, CA   \n",
      "39                                 NLP/Data Scientist   Redwood City, CA   \n",
      "40                              Senior Data Scientist      Palo Alto, CA   \n",
      "41  Senior Data Scientist - Digital human behavior...  San Francisco, CA   \n",
      "42  Data Scientist - Python/R/Matlab, Machine Lear...      San Mateo, CA   \n",
      "43                              Senior Data Scientist      Palo Alto, CA   \n",
      "44                                     Data Scientist      Palo Alto, CA   \n",
      "45  Sr. Data Scientist - Machine Learning, Python ...  San Francisco, CA   \n",
      "46  Data Scientist - Machine Learning, Python - 12...  San Francisco, CA   \n",
      "47            Head of Machine Learning/Data Scientist      Palo Alto, CA   \n",
      "48                                 Sr. Data Scientist  San Francisco, CA   \n",
      "49                                     Data Scientist      San Mateo, CA   \n",
      "50                                     Data Scientist      San Mateo, CA   \n",
      "51               Sr. Data Scientist/Research Engineer      San Mateo, CA   \n",
      "52  Jr. to Senior Data Scientist, top tier Health ...  San Francisco, CA   \n",
      "53  Data Scientist (Direct Hire) - REMOTE - Operat...         Remote, CA   \n",
      "54                            DATA SCIENTIST/ENGINEER  San Francisco, CA   \n",
      "55        Senior ML Data Scientist - Leadership Role!  San Francisco, CA   \n",
      "\n",
      "                                               Skills  \n",
      "0   Statistics, SQL/R, Python, Hadoop, Tableau, Sp...  \n",
      "1   Data Analyst, Quantitative Analysis, SQL Queri...  \n",
      "2      Data, Data Analyst, SQL, Python, mobile gaming  \n",
      "3      Analyst, Analytical, Computer, Excel, SAS, SQL  \n",
      "4   Tableau, SQL Server and Management Studio, Exc...  \n",
      "5                              Marketing Data Analyst  \n",
      "6   Data Analyst, data administration, Moniter dat...  \n",
      "7                   BI Data Analyst Health SQL Report  \n",
      "8   Data Analyst, Data Modeling, Data Mapping, Dat...  \n",
      "9   DENODO,Oracle,Qlikview,Data Analyst, Data Virt...  \n",
      "10  business system analyst informatica MDM master...  \n",
      "11  SQL, MS SQL Server ETL and creation of SQL sto...  \n",
      "12  SQL, MS SQL Server ETL and creation of SQL sto...  \n",
      "13           R SAS SQL ETL EPIC Clarity HIPAA ANALYST  \n",
      "14  Providing excellent client and peer interactio...  \n",
      "15  Data Analysis, Data Mining, Pharmaceutical, Pr...  \n",
      "16      SQL SQL Server ETL BI (Business Intelligence)  \n",
      "17  Whole Person Care (WPC) Data Analyst / EDI Ana...  \n",
      "18                              Workday, Data Analyst  \n",
      "19  Cash management, ACH, Checks, Wire, Retail Ban...  \n",
      "20  Business, Data, Develop, SQL, Analyst, BA, Exc...  \n",
      "21                 SQL ,  ETL , Shell, Perl or Python  \n",
      "22  Presto, Oracle, MySQL,  Hive, forecast, deploy...  \n",
      "23  Business Analyst, Data Analyst, Banking, Loans...  \n",
      "24  Algorithms, Analysis, Analyst, Analytical Skil...  \n",
      "25     Data Mapping, banking background, reports, ETL  \n",
      "26  machine learning data scientist mining algorit...  \n",
      "27  Machine Learning/Data Scientist 5 years, PhD, ...  \n",
      "28  (DATA SCIENTIST ) AND (R OR PYTHON ) AND(SCALA...  \n",
      "29         Data scientist Spark/Scala or Spark/Python  \n",
      "30  Machine Learning, Python, Data Mining, Hadoop,...  \n",
      "31  Data Science, Python, Scala, or Java, Hadoop/S...  \n",
      "32  Python/R/Matlab, Scala, Big Data (Hadoop/MapRe...  \n",
      "33  Python/R/Matlab, Scala, Big Data (Hadoop/MapRe...  \n",
      "34  Data Science, Tableau, SQL - Data Science, Tab...  \n",
      "35  Python, SQL, MySQL, Machine Learning, AWS - Py...  \n",
      "36  Machine Learning, NLP, Python or Scala, Spark/...  \n",
      "37  Machine Learning, NLP, Python or Scala, Spark/...  \n",
      "38  R, Python, Machine Learning, NLP, Algorithms, ...  \n",
      "39  Machine Learning Algorithims, Text Mining, Nat...  \n",
      "40  Machine Learning, Deep Learning, Artificial In...  \n",
      "41  Machine Learning, Deep Learning, Python, Scala...  \n",
      "42  Python/R/Matlab, Machine Learning, Apache Spar...  \n",
      "43  R, MATLAB, Python, numpy, pandas, scikit-learn...  \n",
      "44                     Python, TensorFlow, Algorithms  \n",
      "45  Machine Learning, Natural Language Processing,...  \n",
      "46  Machine Learning, Natural Language Processing,...  \n",
      "47  Machine Learning/Artificial Intelligence/Algor...  \n",
      "48  AWS, Azure, cloud computing technologies, Pyth...  \n",
      "49                                           Teradata  \n",
      "50        Machine Learning algorithms, SQL, R, Python  \n",
      "51  Experience working with high performance compu...  \n",
      "52  data science data scientist python probabilist...  \n",
      "53  Data Science, Data Scientist, Analytics, Analy...  \n",
      "54  Data engineer; Data science, ETL; Python, Java...  \n",
      "55  Machine Learning, Python, R, ETL, Data Science...  \n"
     ]
    }
   ],
   "source": [
    "print(df)\n",
    "df.to_csv('dicedata.csv')"
   ]
  },
  {
   "cell_type": "code",
   "execution_count": null,
   "metadata": {
    "collapsed": true
   },
   "outputs": [],
   "source": []
  }
 ],
 "metadata": {
  "kernelspec": {
   "display_name": "Python [conda root]",
   "language": "python",
   "name": "conda-root-py"
  },
  "language_info": {
   "codemirror_mode": {
    "name": "ipython",
    "version": 2
   },
   "file_extension": ".py",
   "mimetype": "text/x-python",
   "name": "python",
   "nbconvert_exporter": "python",
   "pygments_lexer": "ipython2",
   "version": "2.7.12"
  }
 },
 "nbformat": 4,
 "nbformat_minor": 1
}
